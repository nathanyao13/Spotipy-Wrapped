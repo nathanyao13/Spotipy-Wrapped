{
 "cells": [
  {
   "attachments": {},
   "cell_type": "markdown",
   "metadata": {},
   "source": [
    "# Spotipy Wrapped: Demonstration"
   ]
  },
  {
   "cell_type": "markdown",
   "metadata": {},
   "source": [
    "By: Nathan Yao <br>\n",
    "Github: https://github.com/nathanyao13"
   ]
  },
  {
   "cell_type": "markdown",
   "metadata": {},
   "source": [
    "___"
   ]
  },
  {
   "cell_type": "code",
   "execution_count": 16,
   "metadata": {},
   "outputs": [],
   "source": [
    "from search import search\n",
    "from content import content_rec\n",
    "from collab import collab_rec"
   ]
  },
  {
   "cell_type": "markdown",
   "metadata": {},
   "source": [
    "___"
   ]
  },
  {
   "cell_type": "markdown",
   "metadata": {},
   "source": [
    "## Content-Based Recommender System"
   ]
  },
  {
   "cell_type": "markdown",
   "metadata": {},
   "source": [
    "Here are three songs that I like: Misty by Ella Fitzgerald, Vienna by Billy Joel, \n",
    "and Don't Stop Me Now by Queen. I use my search class to search the database\n",
    "for the relative song ids."
   ]
  },
  {
   "cell_type": "code",
   "execution_count": 17,
   "metadata": {},
   "outputs": [],
   "source": [
    "search = search()"
   ]
  },
  {
   "cell_type": "code",
   "execution_count": 18,
   "metadata": {},
   "outputs": [],
   "source": [
    "content = content_rec()"
   ]
  },
  {
   "cell_type": "code",
   "execution_count": 19,
   "metadata": {},
   "outputs": [
    {
     "data": {
      "text/html": [
       "<div>\n",
       "<style scoped>\n",
       "    .dataframe tbody tr th:only-of-type {\n",
       "        vertical-align: middle;\n",
       "    }\n",
       "\n",
       "    .dataframe tbody tr th {\n",
       "        vertical-align: top;\n",
       "    }\n",
       "\n",
       "    .dataframe thead th {\n",
       "        text-align: right;\n",
       "    }\n",
       "</style>\n",
       "<table border=\"1\" class=\"dataframe\">\n",
       "  <thead>\n",
       "    <tr style=\"text-align: right;\">\n",
       "      <th></th>\n",
       "      <th>name</th>\n",
       "      <th>artists</th>\n",
       "      <th>album</th>\n",
       "      <th>id</th>\n",
       "    </tr>\n",
       "  </thead>\n",
       "  <tbody>\n",
       "    <tr>\n",
       "      <th>625456</th>\n",
       "      <td>Misty</td>\n",
       "      <td>['Ella Fitzgerald']</td>\n",
       "      <td>Live At Chautauqua Vol. 2</td>\n",
       "      <td>2gTpG4Rppk0FRnDQBRBrYi</td>\n",
       "    </tr>\n",
       "  </tbody>\n",
       "</table>\n",
       "</div>"
      ],
      "text/plain": [
       "         name              artists                      album  \\\n",
       "625456  Misty  ['Ella Fitzgerald']  Live At Chautauqua Vol. 2   \n",
       "\n",
       "                            id  \n",
       "625456  2gTpG4Rppk0FRnDQBRBrYi  "
      ]
     },
     "execution_count": 19,
     "metadata": {},
     "output_type": "execute_result"
    }
   ],
   "source": [
    "search.search_by_song_and_artist(\"Misty\", \"Ella Fitzgerald\")"
   ]
  },
  {
   "cell_type": "code",
   "execution_count": 20,
   "metadata": {},
   "outputs": [
    {
     "data": {
      "text/html": [
       "<div>\n",
       "<style scoped>\n",
       "    .dataframe tbody tr th:only-of-type {\n",
       "        vertical-align: middle;\n",
       "    }\n",
       "\n",
       "    .dataframe tbody tr th {\n",
       "        vertical-align: top;\n",
       "    }\n",
       "\n",
       "    .dataframe thead th {\n",
       "        text-align: right;\n",
       "    }\n",
       "</style>\n",
       "<table border=\"1\" class=\"dataframe\">\n",
       "  <thead>\n",
       "    <tr style=\"text-align: right;\">\n",
       "      <th></th>\n",
       "      <th>name</th>\n",
       "      <th>artists</th>\n",
       "      <th>album</th>\n",
       "      <th>id</th>\n",
       "    </tr>\n",
       "  </thead>\n",
       "  <tbody>\n",
       "    <tr>\n",
       "      <th>329616</th>\n",
       "      <td>Vienna</td>\n",
       "      <td>['Billy Joel']</td>\n",
       "      <td>The Stranger</td>\n",
       "      <td>7gREIuHognJFspylIDJ94p</td>\n",
       "    </tr>\n",
       "    <tr>\n",
       "      <th>495255</th>\n",
       "      <td>Vienna</td>\n",
       "      <td>['Billy Joel']</td>\n",
       "      <td>The Stranger (Legacy Edition)</td>\n",
       "      <td>4U45aEWtQhrm8A5mxPaFZ7</td>\n",
       "    </tr>\n",
       "    <tr>\n",
       "      <th>506170</th>\n",
       "      <td>Vienna - Live at Madison Square Garden, New Yo...</td>\n",
       "      <td>['Billy Joel']</td>\n",
       "      <td>12 Gardens Live</td>\n",
       "      <td>3MTC17XzkN2SlreuIzA4e1</td>\n",
       "    </tr>\n",
       "  </tbody>\n",
       "</table>\n",
       "</div>"
      ],
      "text/plain": [
       "                                                     name         artists  \\\n",
       "329616                                             Vienna  ['Billy Joel']   \n",
       "495255                                             Vienna  ['Billy Joel']   \n",
       "506170  Vienna - Live at Madison Square Garden, New Yo...  ['Billy Joel']   \n",
       "\n",
       "                                album                      id  \n",
       "329616                   The Stranger  7gREIuHognJFspylIDJ94p  \n",
       "495255  The Stranger (Legacy Edition)  4U45aEWtQhrm8A5mxPaFZ7  \n",
       "506170                12 Gardens Live  3MTC17XzkN2SlreuIzA4e1  "
      ]
     },
     "execution_count": 20,
     "metadata": {},
     "output_type": "execute_result"
    }
   ],
   "source": [
    "search.search_by_song_and_artist(\"Vienna\", \"Billy Joel\")"
   ]
  },
  {
   "cell_type": "code",
   "execution_count": 21,
   "metadata": {},
   "outputs": [
    {
     "data": {
      "text/html": [
       "<div>\n",
       "<style scoped>\n",
       "    .dataframe tbody tr th:only-of-type {\n",
       "        vertical-align: middle;\n",
       "    }\n",
       "\n",
       "    .dataframe tbody tr th {\n",
       "        vertical-align: top;\n",
       "    }\n",
       "\n",
       "    .dataframe thead th {\n",
       "        text-align: right;\n",
       "    }\n",
       "</style>\n",
       "<table border=\"1\" class=\"dataframe\">\n",
       "  <thead>\n",
       "    <tr style=\"text-align: right;\">\n",
       "      <th></th>\n",
       "      <th>name</th>\n",
       "      <th>artists</th>\n",
       "      <th>album</th>\n",
       "      <th>id</th>\n",
       "    </tr>\n",
       "  </thead>\n",
       "  <tbody>\n",
       "    <tr>\n",
       "      <th>1123666</th>\n",
       "      <td>Don't Stop Me Now - 2011 Remaster</td>\n",
       "      <td>['Queen']</td>\n",
       "      <td>Animal Crackers (Original Motion Picture Sound...</td>\n",
       "      <td>1Vdn6Ll4Je52FR1yF8ciKk</td>\n",
       "    </tr>\n",
       "  </tbody>\n",
       "</table>\n",
       "</div>"
      ],
      "text/plain": [
       "                                      name    artists  \\\n",
       "1123666  Don't Stop Me Now - 2011 Remaster  ['Queen']   \n",
       "\n",
       "                                                     album  \\\n",
       "1123666  Animal Crackers (Original Motion Picture Sound...   \n",
       "\n",
       "                             id  \n",
       "1123666  1Vdn6Ll4Je52FR1yF8ciKk  "
      ]
     },
     "execution_count": 21,
     "metadata": {},
     "output_type": "execute_result"
    }
   ],
   "source": [
    "search.search_by_song_and_artist(\"Don't Stop Me Now\", \"Queen\")"
   ]
  },
  {
   "cell_type": "markdown",
   "metadata": {},
   "source": [
    "The content-based recommender system takes in a list of 1 or more song ids. <br>\n",
    "Below are the top 10 song recommendations based on my list of 3 songs:"
   ]
  },
  {
   "cell_type": "code",
   "execution_count": 22,
   "metadata": {},
   "outputs": [
    {
     "data": {
      "text/html": [
       "<div>\n",
       "<style scoped>\n",
       "    .dataframe tbody tr th:only-of-type {\n",
       "        vertical-align: middle;\n",
       "    }\n",
       "\n",
       "    .dataframe tbody tr th {\n",
       "        vertical-align: top;\n",
       "    }\n",
       "\n",
       "    .dataframe thead th {\n",
       "        text-align: right;\n",
       "    }\n",
       "</style>\n",
       "<table border=\"1\" class=\"dataframe\">\n",
       "  <thead>\n",
       "    <tr style=\"text-align: right;\">\n",
       "      <th></th>\n",
       "      <th>name</th>\n",
       "      <th>artists</th>\n",
       "      <th>album</th>\n",
       "      <th>release_date</th>\n",
       "    </tr>\n",
       "  </thead>\n",
       "  <tbody>\n",
       "    <tr>\n",
       "      <th>464071</th>\n",
       "      <td>It Don't Mean A Thing If It Ain't Got That Swing</td>\n",
       "      <td>['Eight To The Bar']</td>\n",
       "      <td>The Joint Is Jumpin'!</td>\n",
       "      <td>1983</td>\n",
       "    </tr>\n",
       "    <tr>\n",
       "      <th>237572</th>\n",
       "      <td>Dzien Sie Budzi</td>\n",
       "      <td>['Basia']</td>\n",
       "      <td>Basia On Broadway</td>\n",
       "      <td>1995-10-31</td>\n",
       "    </tr>\n",
       "    <tr>\n",
       "      <th>464066</th>\n",
       "      <td>I Wanna Rock</td>\n",
       "      <td>['Eight To The Bar']</td>\n",
       "      <td>The Joint Is Jumpin'!</td>\n",
       "      <td>1983</td>\n",
       "    </tr>\n",
       "    <tr>\n",
       "      <th>864919</th>\n",
       "      <td>Gettin' Ready Rag</td>\n",
       "      <td>['Brian Stokes Mitchell', 'Ragtime Ensemble']</td>\n",
       "      <td>Ragtime: The Musical (Original Broadway Cast R...</td>\n",
       "      <td>1998</td>\n",
       "    </tr>\n",
       "    <tr>\n",
       "      <th>334516</th>\n",
       "      <td>Christmas in My Mobile Home (feat. David Nehls...</td>\n",
       "      <td>['The Off Broadway Cast Of \"The Great American...</td>\n",
       "      <td>Broadway's Greatest Gifts: Carols for a Cure, ...</td>\n",
       "      <td>2005-10-21</td>\n",
       "    </tr>\n",
       "    <tr>\n",
       "      <th>1180280</th>\n",
       "      <td>Prefixo de Verão</td>\n",
       "      <td>['Daniela Mercury']</td>\n",
       "      <td>Balé Mulato Ao Vivo</td>\n",
       "      <td>2006</td>\n",
       "    </tr>\n",
       "    <tr>\n",
       "      <th>237571</th>\n",
       "      <td>Until You Come Back to Me (That's What I'm Gon...</td>\n",
       "      <td>['Basia']</td>\n",
       "      <td>Basia On Broadway</td>\n",
       "      <td>1995-10-31</td>\n",
       "    </tr>\n",
       "    <tr>\n",
       "      <th>318815</th>\n",
       "      <td>I Will Go In Jesus Name (Reprise)</td>\n",
       "      <td>['Hezekiah Walker']</td>\n",
       "      <td>Live In Atlanta</td>\n",
       "      <td>1994</td>\n",
       "    </tr>\n",
       "    <tr>\n",
       "      <th>582515</th>\n",
       "      <td>Du schwarzer Afghane - Live</td>\n",
       "      <td>['Wolfgang Ambros']</td>\n",
       "      <td>Hoffnungslos Selbstbewußt</td>\n",
       "      <td>2002-06-03</td>\n",
       "    </tr>\n",
       "    <tr>\n",
       "      <th>5451</th>\n",
       "      <td>Dos Colores: Blanco Y Negro</td>\n",
       "      <td>['Víctor Manuel', 'Pablo Milanés']</td>\n",
       "      <td>En Blanco y Negro</td>\n",
       "      <td>1995-08-31</td>\n",
       "    </tr>\n",
       "  </tbody>\n",
       "</table>\n",
       "</div>"
      ],
      "text/plain": [
       "                                                      name  \\\n",
       "464071    It Don't Mean A Thing If It Ain't Got That Swing   \n",
       "237572                                     Dzien Sie Budzi   \n",
       "464066                                        I Wanna Rock   \n",
       "864919                                   Gettin' Ready Rag   \n",
       "334516   Christmas in My Mobile Home (feat. David Nehls...   \n",
       "1180280                                   Prefixo de Verão   \n",
       "237571   Until You Come Back to Me (That's What I'm Gon...   \n",
       "318815                   I Will Go In Jesus Name (Reprise)   \n",
       "582515                         Du schwarzer Afghane - Live   \n",
       "5451                           Dos Colores: Blanco Y Negro   \n",
       "\n",
       "                                                   artists  \\\n",
       "464071                                ['Eight To The Bar']   \n",
       "237572                                           ['Basia']   \n",
       "464066                                ['Eight To The Bar']   \n",
       "864919       ['Brian Stokes Mitchell', 'Ragtime Ensemble']   \n",
       "334516   ['The Off Broadway Cast Of \"The Great American...   \n",
       "1180280                                ['Daniela Mercury']   \n",
       "237571                                           ['Basia']   \n",
       "318815                                 ['Hezekiah Walker']   \n",
       "582515                                 ['Wolfgang Ambros']   \n",
       "5451                    ['Víctor Manuel', 'Pablo Milanés']   \n",
       "\n",
       "                                                     album release_date  \n",
       "464071                               The Joint Is Jumpin'!         1983  \n",
       "237572                                   Basia On Broadway   1995-10-31  \n",
       "464066                               The Joint Is Jumpin'!         1983  \n",
       "864919   Ragtime: The Musical (Original Broadway Cast R...         1998  \n",
       "334516   Broadway's Greatest Gifts: Carols for a Cure, ...   2005-10-21  \n",
       "1180280                                Balé Mulato Ao Vivo         2006  \n",
       "237571                                   Basia On Broadway   1995-10-31  \n",
       "318815                                     Live In Atlanta         1994  \n",
       "582515                           Hoffnungslos Selbstbewußt   2002-06-03  \n",
       "5451                                     En Blanco y Negro   1995-08-31  "
      ]
     },
     "execution_count": 22,
     "metadata": {},
     "output_type": "execute_result"
    }
   ],
   "source": [
    "content.recommend(['7gREIuHognJFspylIDJ94p','2gTpG4Rppk0FRnDQBRBrYi', '1Vdn6Ll4Je52FR1yF8ciKk'])"
   ]
  },
  {
   "cell_type": "markdown",
   "metadata": {},
   "source": [
    "___"
   ]
  },
  {
   "cell_type": "markdown",
   "metadata": {},
   "source": [
    "## Collab-based Recommender System"
   ]
  },
  {
   "cell_type": "code",
   "execution_count": 12,
   "metadata": {},
   "outputs": [],
   "source": [
    "collab = collab_rec()"
   ]
  },
  {
   "cell_type": "code",
   "execution_count": 13,
   "metadata": {},
   "outputs": [
    {
     "name": "stdout",
     "output_type": "stream",
     "text": [
      "Epoch: 0, MSE: 0.0643, Loss: 662.3962\n",
      "Epoch: 1, MSE: 0.0085, Loss: 662.3741\n",
      "Epoch: 2, MSE: 0.0014, Loss: 662.3813\n",
      "Epoch: 3, MSE: 0.0005, Loss: 662.3855\n",
      "Epoch: 4, MSE: 0.0004, Loss: 662.3870\n",
      "Epoch: 5, MSE: 0.0003, Loss: 662.3874\n",
      "Converged\n"
     ]
    }
   ],
   "source": [
    "collab.learn()"
   ]
  },
  {
   "cell_type": "code",
   "execution_count": 14,
   "metadata": {},
   "outputs": [
    {
     "data": {
      "text/html": [
       "<div>\n",
       "<style scoped>\n",
       "    .dataframe tbody tr th:only-of-type {\n",
       "        vertical-align: middle;\n",
       "    }\n",
       "\n",
       "    .dataframe tbody tr th {\n",
       "        vertical-align: top;\n",
       "    }\n",
       "\n",
       "    .dataframe thead th {\n",
       "        text-align: right;\n",
       "    }\n",
       "</style>\n",
       "<table border=\"1\" class=\"dataframe\">\n",
       "  <thead>\n",
       "    <tr style=\"text-align: right;\">\n",
       "      <th></th>\n",
       "      <th>name</th>\n",
       "      <th>artists</th>\n",
       "      <th>album</th>\n",
       "      <th>release_date</th>\n",
       "    </tr>\n",
       "  </thead>\n",
       "  <tbody>\n",
       "    <tr>\n",
       "      <th>859743</th>\n",
       "      <td>Kinderszenen “Scenes from Childhood”, Op. 15: ...</td>\n",
       "      <td>['Robert Schumann', 'Sarah Beth Briggs']</td>\n",
       "      <td>Schumann: Papillons, Kinderszenen; Brahms: Opp...</td>\n",
       "      <td>2019-01-18</td>\n",
       "    </tr>\n",
       "    <tr>\n",
       "      <th>319128</th>\n",
       "      <td>Requiem In D Minor, K. 626: Sequence: VI. Lacr...</td>\n",
       "      <td>['Slovak Philharmonic', 'Jaroslava Horska', 'V...</td>\n",
       "      <td>Mozart: Requiem In D Minor</td>\n",
       "      <td>1989-04-15</td>\n",
       "    </tr>\n",
       "    <tr>\n",
       "      <th>841694</th>\n",
       "      <td>The Color Of Travel</td>\n",
       "      <td>['Leon Muhudinov']</td>\n",
       "      <td>Tasty Guitar Treats</td>\n",
       "      <td>2003-08-27</td>\n",
       "    </tr>\n",
       "    <tr>\n",
       "      <th>340836</th>\n",
       "      <td>Too Late Tonight - Remix By Chris Lord-Alge</td>\n",
       "      <td>['Arid']</td>\n",
       "      <td>At The Close Of Every Day</td>\n",
       "      <td>2000-02-29</td>\n",
       "    </tr>\n",
       "    <tr>\n",
       "      <th>875454</th>\n",
       "      <td>My Body</td>\n",
       "      <td>['Will Clarke', 'Huxley']</td>\n",
       "      <td>Defected Amsterdam 2017</td>\n",
       "      <td>2017-10-06</td>\n",
       "    </tr>\n",
       "    <tr>\n",
       "      <th>617874</th>\n",
       "      <td>Ammonia Avenue</td>\n",
       "      <td>['The Alan Parsons Project']</td>\n",
       "      <td>Ammonia Avenue</td>\n",
       "      <td>1984-02-07</td>\n",
       "    </tr>\n",
       "    <tr>\n",
       "      <th>233154</th>\n",
       "      <td>Failure</td>\n",
       "      <td>['Mordacious']</td>\n",
       "      <td>This Emptiness</td>\n",
       "      <td>2006-09-11</td>\n",
       "    </tr>\n",
       "    <tr>\n",
       "      <th>623402</th>\n",
       "      <td>Man in the Moon</td>\n",
       "      <td>['John Corabi']</td>\n",
       "      <td>Unplugged</td>\n",
       "      <td>2012-11-13</td>\n",
       "    </tr>\n",
       "    <tr>\n",
       "      <th>191506</th>\n",
       "      <td>Chain Of Love</td>\n",
       "      <td>['Sawyer Brown']</td>\n",
       "      <td>Cafe On The Corner</td>\n",
       "      <td>1992-08-17</td>\n",
       "    </tr>\n",
       "    <tr>\n",
       "      <th>897871</th>\n",
       "      <td>Porno en Acción - Edición 2019</td>\n",
       "      <td>['La Polla Records']</td>\n",
       "      <td>Ni Descanso, Ni Paz!</td>\n",
       "      <td>2019-05-10</td>\n",
       "    </tr>\n",
       "  </tbody>\n",
       "</table>\n",
       "</div>"
      ],
      "text/plain": [
       "                                                     name  \\\n",
       "859743  Kinderszenen “Scenes from Childhood”, Op. 15: ...   \n",
       "319128  Requiem In D Minor, K. 626: Sequence: VI. Lacr...   \n",
       "841694                                The Color Of Travel   \n",
       "340836        Too Late Tonight - Remix By Chris Lord-Alge   \n",
       "875454                                            My Body   \n",
       "617874                                     Ammonia Avenue   \n",
       "233154                                            Failure   \n",
       "623402                                    Man in the Moon   \n",
       "191506                                      Chain Of Love   \n",
       "897871                     Porno en Acción - Edición 2019   \n",
       "\n",
       "                                                  artists  \\\n",
       "859743           ['Robert Schumann', 'Sarah Beth Briggs']   \n",
       "319128  ['Slovak Philharmonic', 'Jaroslava Horska', 'V...   \n",
       "841694                                 ['Leon Muhudinov']   \n",
       "340836                                           ['Arid']   \n",
       "875454                          ['Will Clarke', 'Huxley']   \n",
       "617874                       ['The Alan Parsons Project']   \n",
       "233154                                     ['Mordacious']   \n",
       "623402                                    ['John Corabi']   \n",
       "191506                                   ['Sawyer Brown']   \n",
       "897871                               ['La Polla Records']   \n",
       "\n",
       "                                                    album release_date  \n",
       "859743  Schumann: Papillons, Kinderszenen; Brahms: Opp...   2019-01-18  \n",
       "319128                         Mozart: Requiem In D Minor   1989-04-15  \n",
       "841694                                Tasty Guitar Treats   2003-08-27  \n",
       "340836                          At The Close Of Every Day   2000-02-29  \n",
       "875454                            Defected Amsterdam 2017   2017-10-06  \n",
       "617874                                     Ammonia Avenue   1984-02-07  \n",
       "233154                                     This Emptiness   2006-09-11  \n",
       "623402                                          Unplugged   2012-11-13  \n",
       "191506                                 Cafe On The Corner   1992-08-17  \n",
       "897871                               Ni Descanso, Ni Paz!   2019-05-10  "
      ]
     },
     "execution_count": 14,
     "metadata": {},
     "output_type": "execute_result"
    }
   ],
   "source": [
    "collab.user_recommendations(0)"
   ]
  },
  {
   "cell_type": "markdown",
   "metadata": {},
   "source": [
    "___"
   ]
  }
 ],
 "metadata": {
  "kernelspec": {
   "display_name": "Spotipy-Wrapped-AUTklILe",
   "language": "python",
   "name": "python3"
  },
  "language_info": {
   "codemirror_mode": {
    "name": "ipython",
    "version": 3
   },
   "file_extension": ".py",
   "mimetype": "text/x-python",
   "name": "python",
   "nbconvert_exporter": "python",
   "pygments_lexer": "ipython3",
   "version": "3.13.3"
  },
  "orig_nbformat": 4
 },
 "nbformat": 4,
 "nbformat_minor": 2
}
